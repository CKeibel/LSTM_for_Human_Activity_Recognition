{
  "nbformat": 4,
  "nbformat_minor": 0,
  "metadata": {
    "colab": {
      "name": "Medium_article_OPTIMIZED.ipynb",
      "provenance": [],
      "collapsed_sections": [],
      "toc_visible": true
    },
    "kernelspec": {
      "name": "python3",
      "display_name": "Python 3"
    },
    "accelerator": "GPU"
  },
  "cells": [
    {
      "cell_type": "code",
      "metadata": {
        "id": "9-iy2SYz-eCm"
      },
      "source": [
        "#!wget \"https://www.cis.fordham.edu/wisdm/includes/datasets/latest/WISDM_ar_latest.tar.gz\""
      ],
      "execution_count": null,
      "outputs": []
    },
    {
      "cell_type": "code",
      "metadata": {
        "id": "ZCaGwQD3ASw0"
      },
      "source": [
        "#!tar xvzf \"WISDM_ar_latest.tar.gz\""
      ],
      "execution_count": null,
      "outputs": []
    },
    {
      "cell_type": "code",
      "metadata": {
        "id": "TlSToBu1A8Ix"
      },
      "source": [
        "import pandas as pd\n",
        "import numpy as np\n",
        "import pickle\n",
        "import matplotlib.pyplot as plt\n",
        "from scipy import stats\n",
        "import tensorflow as tf\n",
        "import seaborn as sns\n",
        "from pylab import rcParams\n",
        "from sklearn import metrics\n",
        "from sklearn.model_selection import train_test_split"
      ],
      "execution_count": 1,
      "outputs": []
    },
    {
      "cell_type": "code",
      "metadata": {
        "id": "5gWXASprAcjp",
        "outputId": "97cdf4d4-16ca-4b26-f113-46cbaa1cbfcf",
        "colab": {
          "base_uri": "https://localhost:8080/",
          "height": 402
        }
      },
      "source": [
        "columns = ['user','activity','timestamp', 'x-axis', 'y-axis', 'z-axis']\n",
        "df = pd.read_csv('WISDM_ar_v1.1_raw.txt', header = None, names = columns)\n",
        "df['z-axis'] = df['z-axis'].str.rstrip(';')\n",
        "df"
      ],
      "execution_count": 2,
      "outputs": [
        {
          "output_type": "execute_result",
          "data": {
            "text/html": [
              "<div>\n",
              "<style scoped>\n",
              "    .dataframe tbody tr th:only-of-type {\n",
              "        vertical-align: middle;\n",
              "    }\n",
              "\n",
              "    .dataframe tbody tr th {\n",
              "        vertical-align: top;\n",
              "    }\n",
              "\n",
              "    .dataframe thead th {\n",
              "        text-align: right;\n",
              "    }\n",
              "</style>\n",
              "<table border=\"1\" class=\"dataframe\">\n",
              "  <thead>\n",
              "    <tr style=\"text-align: right;\">\n",
              "      <th></th>\n",
              "      <th>user</th>\n",
              "      <th>activity</th>\n",
              "      <th>timestamp</th>\n",
              "      <th>x-axis</th>\n",
              "      <th>y-axis</th>\n",
              "      <th>z-axis</th>\n",
              "    </tr>\n",
              "  </thead>\n",
              "  <tbody>\n",
              "    <tr>\n",
              "      <th>0</th>\n",
              "      <td>33</td>\n",
              "      <td>Jogging</td>\n",
              "      <td>49105962326000</td>\n",
              "      <td>-0.694638</td>\n",
              "      <td>12.680544</td>\n",
              "      <td>0.50395286</td>\n",
              "    </tr>\n",
              "    <tr>\n",
              "      <th>1</th>\n",
              "      <td>33</td>\n",
              "      <td>Jogging</td>\n",
              "      <td>49106062271000</td>\n",
              "      <td>5.012288</td>\n",
              "      <td>11.264028</td>\n",
              "      <td>0.95342433</td>\n",
              "    </tr>\n",
              "    <tr>\n",
              "      <th>2</th>\n",
              "      <td>33</td>\n",
              "      <td>Jogging</td>\n",
              "      <td>49106112167000</td>\n",
              "      <td>4.903325</td>\n",
              "      <td>10.882658</td>\n",
              "      <td>-0.08172209</td>\n",
              "    </tr>\n",
              "    <tr>\n",
              "      <th>3</th>\n",
              "      <td>33</td>\n",
              "      <td>Jogging</td>\n",
              "      <td>49106222305000</td>\n",
              "      <td>-0.612916</td>\n",
              "      <td>18.496431</td>\n",
              "      <td>3.0237172</td>\n",
              "    </tr>\n",
              "    <tr>\n",
              "      <th>4</th>\n",
              "      <td>33</td>\n",
              "      <td>Jogging</td>\n",
              "      <td>49106332290000</td>\n",
              "      <td>-1.184970</td>\n",
              "      <td>12.108489</td>\n",
              "      <td>7.205164</td>\n",
              "    </tr>\n",
              "    <tr>\n",
              "      <th>...</th>\n",
              "      <td>...</td>\n",
              "      <td>...</td>\n",
              "      <td>...</td>\n",
              "      <td>...</td>\n",
              "      <td>...</td>\n",
              "      <td>...</td>\n",
              "    </tr>\n",
              "    <tr>\n",
              "      <th>1098204</th>\n",
              "      <td>19</td>\n",
              "      <td>Sitting</td>\n",
              "      <td>131623331483000</td>\n",
              "      <td>9.000000</td>\n",
              "      <td>-1.570000</td>\n",
              "      <td>1.69</td>\n",
              "    </tr>\n",
              "    <tr>\n",
              "      <th>1098205</th>\n",
              "      <td>19</td>\n",
              "      <td>Sitting</td>\n",
              "      <td>131623371431000</td>\n",
              "      <td>9.040000</td>\n",
              "      <td>-1.460000</td>\n",
              "      <td>1.73</td>\n",
              "    </tr>\n",
              "    <tr>\n",
              "      <th>1098206</th>\n",
              "      <td>19</td>\n",
              "      <td>Sitting</td>\n",
              "      <td>131623411592000</td>\n",
              "      <td>9.080000</td>\n",
              "      <td>-1.380000</td>\n",
              "      <td>1.69</td>\n",
              "    </tr>\n",
              "    <tr>\n",
              "      <th>1098207</th>\n",
              "      <td>19</td>\n",
              "      <td>Sitting</td>\n",
              "      <td>131623491487000</td>\n",
              "      <td>9.000000</td>\n",
              "      <td>-1.460000</td>\n",
              "      <td>1.73</td>\n",
              "    </tr>\n",
              "    <tr>\n",
              "      <th>1098208</th>\n",
              "      <td>19</td>\n",
              "      <td>Sitting</td>\n",
              "      <td>131623531465000</td>\n",
              "      <td>8.880000</td>\n",
              "      <td>-1.330000</td>\n",
              "      <td>1.61</td>\n",
              "    </tr>\n",
              "  </tbody>\n",
              "</table>\n",
              "<p>1098209 rows × 6 columns</p>\n",
              "</div>"
            ],
            "text/plain": [
              "         user activity        timestamp    x-axis     y-axis       z-axis\n",
              "0          33  Jogging   49105962326000 -0.694638  12.680544   0.50395286\n",
              "1          33  Jogging   49106062271000  5.012288  11.264028   0.95342433\n",
              "2          33  Jogging   49106112167000  4.903325  10.882658  -0.08172209\n",
              "3          33  Jogging   49106222305000 -0.612916  18.496431    3.0237172\n",
              "4          33  Jogging   49106332290000 -1.184970  12.108489     7.205164\n",
              "...       ...      ...              ...       ...        ...          ...\n",
              "1098204    19  Sitting  131623331483000  9.000000  -1.570000         1.69\n",
              "1098205    19  Sitting  131623371431000  9.040000  -1.460000         1.73\n",
              "1098206    19  Sitting  131623411592000  9.080000  -1.380000         1.69\n",
              "1098207    19  Sitting  131623491487000  9.000000  -1.460000         1.73\n",
              "1098208    19  Sitting  131623531465000  8.880000  -1.330000         1.61\n",
              "\n",
              "[1098209 rows x 6 columns]"
            ]
          },
          "metadata": {
            "tags": []
          },
          "execution_count": 2
        }
      ]
    },
    {
      "cell_type": "code",
      "metadata": {
        "id": "LgfcqvO4qlwR",
        "outputId": "de3f8eb5-c993-4704-a5df-db2a8a8e0796",
        "colab": {
          "base_uri": "https://localhost:8080/",
          "height": 284
        }
      },
      "source": [
        "df = df.dropna()\n",
        "df.describe()"
      ],
      "execution_count": 22,
      "outputs": [
        {
          "output_type": "execute_result",
          "data": {
            "text/html": [
              "<div>\n",
              "<style scoped>\n",
              "    .dataframe tbody tr th:only-of-type {\n",
              "        vertical-align: middle;\n",
              "    }\n",
              "\n",
              "    .dataframe tbody tr th {\n",
              "        vertical-align: top;\n",
              "    }\n",
              "\n",
              "    .dataframe thead th {\n",
              "        text-align: right;\n",
              "    }\n",
              "</style>\n",
              "<table border=\"1\" class=\"dataframe\">\n",
              "  <thead>\n",
              "    <tr style=\"text-align: right;\">\n",
              "      <th></th>\n",
              "      <th>user</th>\n",
              "      <th>timestamp</th>\n",
              "      <th>x-axis</th>\n",
              "      <th>y-axis</th>\n",
              "    </tr>\n",
              "  </thead>\n",
              "  <tbody>\n",
              "    <tr>\n",
              "      <th>count</th>\n",
              "      <td>1.098208e+06</td>\n",
              "      <td>1.098208e+06</td>\n",
              "      <td>1.098208e+06</td>\n",
              "      <td>1.098208e+06</td>\n",
              "    </tr>\n",
              "    <tr>\n",
              "      <th>mean</th>\n",
              "      <td>1.886067e+01</td>\n",
              "      <td>3.340895e+13</td>\n",
              "      <td>6.628660e-01</td>\n",
              "      <td>7.255626e+00</td>\n",
              "    </tr>\n",
              "    <tr>\n",
              "      <th>std</th>\n",
              "      <td>1.021423e+01</td>\n",
              "      <td>4.944962e+13</td>\n",
              "      <td>6.849046e+00</td>\n",
              "      <td>6.746216e+00</td>\n",
              "    </tr>\n",
              "    <tr>\n",
              "      <th>min</th>\n",
              "      <td>1.000000e+00</td>\n",
              "      <td>0.000000e+00</td>\n",
              "      <td>-1.961000e+01</td>\n",
              "      <td>-1.961000e+01</td>\n",
              "    </tr>\n",
              "    <tr>\n",
              "      <th>25%</th>\n",
              "      <td>1.000000e+01</td>\n",
              "      <td>2.019110e+12</td>\n",
              "      <td>-2.870000e+00</td>\n",
              "      <td>3.170000e+00</td>\n",
              "    </tr>\n",
              "    <tr>\n",
              "      <th>50%</th>\n",
              "      <td>1.900000e+01</td>\n",
              "      <td>9.722677e+12</td>\n",
              "      <td>2.700000e-01</td>\n",
              "      <td>7.930000e+00</td>\n",
              "    </tr>\n",
              "    <tr>\n",
              "      <th>75%</th>\n",
              "      <td>2.800000e+01</td>\n",
              "      <td>4.996560e+13</td>\n",
              "      <td>4.440000e+00</td>\n",
              "      <td>1.156000e+01</td>\n",
              "    </tr>\n",
              "    <tr>\n",
              "      <th>max</th>\n",
              "      <td>3.600000e+01</td>\n",
              "      <td>2.093974e+14</td>\n",
              "      <td>1.995000e+01</td>\n",
              "      <td>2.004000e+01</td>\n",
              "    </tr>\n",
              "  </tbody>\n",
              "</table>\n",
              "</div>"
            ],
            "text/plain": [
              "               user     timestamp        x-axis        y-axis\n",
              "count  1.098208e+06  1.098208e+06  1.098208e+06  1.098208e+06\n",
              "mean   1.886067e+01  3.340895e+13  6.628660e-01  7.255626e+00\n",
              "std    1.021423e+01  4.944962e+13  6.849046e+00  6.746216e+00\n",
              "min    1.000000e+00  0.000000e+00 -1.961000e+01 -1.961000e+01\n",
              "25%    1.000000e+01  2.019110e+12 -2.870000e+00  3.170000e+00\n",
              "50%    1.900000e+01  9.722677e+12  2.700000e-01  7.930000e+00\n",
              "75%    2.800000e+01  4.996560e+13  4.440000e+00  1.156000e+01\n",
              "max    3.600000e+01  2.093974e+14  1.995000e+01  2.004000e+01"
            ]
          },
          "metadata": {
            "tags": []
          },
          "execution_count": 22
        }
      ]
    },
    {
      "cell_type": "markdown",
      "metadata": {
        "id": "vbhpWqVrBI4W"
      },
      "source": [
        "# Data preprocessing\n"
      ]
    },
    {
      "cell_type": "code",
      "metadata": {
        "id": "b3QZ0qTaBLy9"
      },
      "source": [
        "N_TIME_STEPS = 200\n",
        "N_FEATURES = 3\n",
        "step = 20\n",
        "segments = []\n",
        "labels = []\n",
        "for i in range(0, len(df) - N_TIME_STEPS, step):\n",
        "    xs = df['x-axis'].values[i: i + N_TIME_STEPS]\n",
        "    ys = df['y-axis'].values[i: i + N_TIME_STEPS]\n",
        "    zs = df['z-axis'].values[i: i + N_TIME_STEPS]\n",
        "    label = stats.mode(df['activity'][i: i + N_TIME_STEPS])[0][0]\n",
        "    segments.append([xs, ys, zs])\n",
        "    labels.append(label)"
      ],
      "execution_count": 23,
      "outputs": []
    },
    {
      "cell_type": "markdown",
      "metadata": {
        "id": "u6Mr8sgIBqIy"
      },
      "source": [
        "### The reshaping"
      ]
    },
    {
      "cell_type": "code",
      "metadata": {
        "id": "nL7u25eXBiPT",
        "outputId": "b8a323b5-ef17-4df0-c427-8b23ddb3ca90",
        "colab": {
          "base_uri": "https://localhost:8080/"
        }
      },
      "source": [
        "np.array(segments).shape"
      ],
      "execution_count": 24,
      "outputs": [
        {
          "output_type": "execute_result",
          "data": {
            "text/plain": [
              "(54901, 3, 200)"
            ]
          },
          "metadata": {
            "tags": []
          },
          "execution_count": 24
        }
      ]
    },
    {
      "cell_type": "code",
      "metadata": {
        "id": "5Nh2kSJ2BvAn"
      },
      "source": [
        "reshaped_segments = np.asarray(segments).reshape(-1, N_TIME_STEPS, N_FEATURES)\n",
        "labels = np.asarray(pd.get_dummies(labels), dtype = np.float32)"
      ],
      "execution_count": 25,
      "outputs": []
    },
    {
      "cell_type": "code",
      "metadata": {
        "id": "fwdF0o91CDcu",
        "outputId": "99b412c0-e169-449a-d76b-5cf64c0eedd7",
        "colab": {
          "base_uri": "https://localhost:8080/"
        }
      },
      "source": [
        "reshaped_segments.shape"
      ],
      "execution_count": 26,
      "outputs": [
        {
          "output_type": "execute_result",
          "data": {
            "text/plain": [
              "(54901, 200, 3)"
            ]
          },
          "metadata": {
            "tags": []
          },
          "execution_count": 26
        }
      ]
    },
    {
      "cell_type": "markdown",
      "metadata": {
        "id": "bYxE_sYLs3yf"
      },
      "source": [
        "### Normalization"
      ]
    },
    {
      "cell_type": "code",
      "metadata": {
        "id": "rVrvzE1tslRG"
      },
      "source": [
        "# reshape into keras type float32\n",
        "reshaped_segments = np.array(reshaped_segments)\n",
        "reshaped_segments = reshaped_segments.astype(np.float32)"
      ],
      "execution_count": 27,
      "outputs": []
    },
    {
      "cell_type": "code",
      "metadata": {
        "id": "iSGBq-cBtHiD",
        "outputId": "335b3bc0-d530-4577-9a6b-5631bb3d5020",
        "colab": {
          "base_uri": "https://localhost:8080/"
        }
      },
      "source": [
        "np.max(reshaped_segments)"
      ],
      "execution_count": 28,
      "outputs": [
        {
          "output_type": "execute_result",
          "data": {
            "text/plain": [
              "20.04"
            ]
          },
          "metadata": {
            "tags": []
          },
          "execution_count": 28
        }
      ]
    },
    {
      "cell_type": "code",
      "metadata": {
        "id": "meVyndJOtX32",
        "outputId": "02963b66-e5a0-4a31-cc50-8c165cc62628",
        "colab": {
          "base_uri": "https://localhost:8080/"
        }
      },
      "source": [
        "#reshaped_segments = reshaped_segments[~np.isnan(reshaped_segments)]\n",
        "#np.max(reshaped_segments), np.min(reshaped_segments)"
      ],
      "execution_count": 19,
      "outputs": [
        {
          "output_type": "execute_result",
          "data": {
            "text/plain": [
              "(20.04, -19.8)"
            ]
          },
          "metadata": {
            "tags": []
          },
          "execution_count": 19
        }
      ]
    },
    {
      "cell_type": "code",
      "metadata": {
        "id": "hGwmq5kPtpeV",
        "outputId": "d05a6eb1-275b-404e-b32e-2e3a0a3e9d15",
        "colab": {
          "base_uri": "https://localhost:8080/"
        }
      },
      "source": [
        "reshaped_segments = reshaped_segments / np.max(reshaped_segments)\n",
        "np.max(reshaped_segments), np.min(reshaped_segments)"
      ],
      "execution_count": 29,
      "outputs": [
        {
          "output_type": "execute_result",
          "data": {
            "text/plain": [
              "(1.0, -0.9880239)"
            ]
          },
          "metadata": {
            "tags": []
          },
          "execution_count": 29
        }
      ]
    },
    {
      "cell_type": "markdown",
      "metadata": {
        "id": "KvlsqliptCoz"
      },
      "source": [
        "### creating train and test data"
      ]
    },
    {
      "cell_type": "code",
      "metadata": {
        "id": "7aYm9ddkDQAp"
      },
      "source": [
        "RANDOM_SEED = 42 # Used on top pf the article\n",
        "x_train, X_test, y_train, y_test = train_test_split(\n",
        "        reshaped_segments, labels, test_size=0.2, random_state=RANDOM_SEED)"
      ],
      "execution_count": 30,
      "outputs": []
    },
    {
      "cell_type": "markdown",
      "metadata": {
        "id": "YalSX96JsQ01"
      },
      "source": [
        ""
      ]
    },
    {
      "cell_type": "markdown",
      "metadata": {
        "id": "gn3CBUozDi-X"
      },
      "source": [
        "# Creating the Model"
      ]
    },
    {
      "cell_type": "code",
      "metadata": {
        "id": "OWDq5NbwGUXm"
      },
      "source": [
        "from tensorflow.keras.layers import LSTM\n",
        "from tensorflow.keras.layers import Dense\n",
        "from tensorflow.keras.models import Sequential\n",
        "from tensorflow.keras.regularizers import l2"
      ],
      "execution_count": 31,
      "outputs": []
    },
    {
      "cell_type": "markdown",
      "metadata": {
        "id": "joChL5kBVceo"
      },
      "source": [
        "[keras docs](https://keras.io/api/layers/recurrent_layers/lstm/)<br>\n",
        "**inputs:** A 3D tensor with shape [batch, timesteps, feature]. <br>\n",
        "-> Keras adds Input Dim automaticly (None)"
      ]
    },
    {
      "cell_type": "code",
      "metadata": {
        "id": "p95Ss36MHU9r"
      },
      "source": [
        "# batch_size, timesteps, input_dim\n",
        "# kernel_regularizer=l2(0.0025),\n",
        "input_dim = reshaped_segments.shape[1:]\n",
        "model = Sequential()\n",
        "model.add(LSTM(64, input_shape=input_dim, return_sequences=True,  dropout=0.2))\n",
        "model.add(LSTM(64, dropout=0.2))\n",
        "model.add(Dense(64, activation=\"relu\"))\n",
        "model.add(Dense(64, activation=\"relu\"))\n",
        "model.add(Dense(6, activation=\"softmax\"))\n",
        "\n",
        "from tensorflow.keras.optimizers import *\n",
        "\n",
        "opt = Adam(lr=0.0025, clipvalue=0.5)\n",
        "model.compile(loss='categorical_crossentropy', optimizer = opt, metrics=['categorical_accuracy'])"
      ],
      "execution_count": 38,
      "outputs": []
    },
    {
      "cell_type": "code",
      "metadata": {
        "id": "oCDfQZHbcev_",
        "outputId": "97b97f9c-cfdd-42b7-ee04-5dd08d1d9e7e",
        "colab": {
          "base_uri": "https://localhost:8080/"
        }
      },
      "source": [
        "model.summary()"
      ],
      "execution_count": 33,
      "outputs": [
        {
          "output_type": "stream",
          "text": [
            "Model: \"sequential\"\n",
            "_________________________________________________________________\n",
            "Layer (type)                 Output Shape              Param #   \n",
            "=================================================================\n",
            "lstm (LSTM)                  (None, 200, 64)           17408     \n",
            "_________________________________________________________________\n",
            "lstm_1 (LSTM)                (None, 64)                33024     \n",
            "_________________________________________________________________\n",
            "dense (Dense)                (None, 64)                4160      \n",
            "_________________________________________________________________\n",
            "dense_1 (Dense)              (None, 64)                4160      \n",
            "_________________________________________________________________\n",
            "dense_2 (Dense)              (None, 6)                 390       \n",
            "=================================================================\n",
            "Total params: 59,142\n",
            "Trainable params: 59,142\n",
            "Non-trainable params: 0\n",
            "_________________________________________________________________\n"
          ],
          "name": "stdout"
        }
      ]
    },
    {
      "cell_type": "code",
      "metadata": {
        "id": "P6DtT6qfcC60",
        "outputId": "e70a4108-c461-4126-b93b-d6c45500b623",
        "colab": {
          "base_uri": "https://localhost:8080/"
        }
      },
      "source": [
        "x_train.shape, y_train.shape"
      ],
      "execution_count": 34,
      "outputs": [
        {
          "output_type": "execute_result",
          "data": {
            "text/plain": [
              "((43920, 200, 3), (43920, 6))"
            ]
          },
          "metadata": {
            "tags": []
          },
          "execution_count": 34
        }
      ]
    },
    {
      "cell_type": "code",
      "metadata": {
        "id": "2BdZZeIhcs3i",
        "outputId": "69d688ff-a766-4f08-89e3-1da374c83da0",
        "colab": {
          "base_uri": "https://localhost:8080/"
        }
      },
      "source": [
        "model.fit(\n",
        "    x_train,\n",
        "    y_train,\n",
        "    batch_size=32,\n",
        "    epochs=50, \n",
        "    verbose=1\n",
        ")"
      ],
      "execution_count": 39,
      "outputs": [
        {
          "output_type": "stream",
          "text": [
            "Epoch 1/50\n",
            "1373/1373 [==============================] - 22s 16ms/step - loss: 1.2473 - categorical_accuracy: 0.5009\n",
            "Epoch 2/50\n",
            "1373/1373 [==============================] - 22s 16ms/step - loss: 0.7245 - categorical_accuracy: 0.7371\n",
            "Epoch 3/50\n",
            "1373/1373 [==============================] - 22s 16ms/step - loss: 0.5171 - categorical_accuracy: 0.8070\n",
            "Epoch 4/50\n",
            "1373/1373 [==============================] - 22s 16ms/step - loss: 0.3816 - categorical_accuracy: 0.8517\n",
            "Epoch 5/50\n",
            "1373/1373 [==============================] - 22s 16ms/step - loss: 0.3044 - categorical_accuracy: 0.8850\n",
            "Epoch 6/50\n",
            "1373/1373 [==============================] - 22s 16ms/step - loss: 0.2310 - categorical_accuracy: 0.9155\n",
            "Epoch 7/50\n",
            "1373/1373 [==============================] - 22s 16ms/step - loss: 0.1898 - categorical_accuracy: 0.9331\n",
            "Epoch 8/50\n",
            "1373/1373 [==============================] - 22s 16ms/step - loss: 0.1690 - categorical_accuracy: 0.9396\n",
            "Epoch 9/50\n",
            "1373/1373 [==============================] - 22s 16ms/step - loss: 0.1420 - categorical_accuracy: 0.9490\n",
            "Epoch 10/50\n",
            "1373/1373 [==============================] - 22s 16ms/step - loss: 0.1241 - categorical_accuracy: 0.9565\n",
            "Epoch 11/50\n",
            "1373/1373 [==============================] - 22s 16ms/step - loss: 0.1102 - categorical_accuracy: 0.9616\n",
            "Epoch 12/50\n",
            "1373/1373 [==============================] - 22s 16ms/step - loss: 0.1017 - categorical_accuracy: 0.9645\n",
            "Epoch 13/50\n",
            "1373/1373 [==============================] - 22s 16ms/step - loss: 0.0976 - categorical_accuracy: 0.9655\n",
            "Epoch 14/50\n",
            "1373/1373 [==============================] - 22s 16ms/step - loss: 0.0860 - categorical_accuracy: 0.9698\n",
            "Epoch 15/50\n",
            "1373/1373 [==============================] - 22s 16ms/step - loss: 0.0813 - categorical_accuracy: 0.9724\n",
            "Epoch 16/50\n",
            "1373/1373 [==============================] - 22s 16ms/step - loss: 0.0767 - categorical_accuracy: 0.9733\n",
            "Epoch 17/50\n",
            "1373/1373 [==============================] - 22s 16ms/step - loss: 0.0733 - categorical_accuracy: 0.9745\n",
            "Epoch 18/50\n",
            "1373/1373 [==============================] - 22s 16ms/step - loss: 0.0678 - categorical_accuracy: 0.9758\n",
            "Epoch 19/50\n",
            "1373/1373 [==============================] - 22s 16ms/step - loss: 0.0624 - categorical_accuracy: 0.9784\n",
            "Epoch 20/50\n",
            "1373/1373 [==============================] - 22s 16ms/step - loss: 0.0627 - categorical_accuracy: 0.9788\n",
            "Epoch 21/50\n",
            "1373/1373 [==============================] - 22s 16ms/step - loss: 0.0637 - categorical_accuracy: 0.9785\n",
            "Epoch 22/50\n",
            "1373/1373 [==============================] - 22s 16ms/step - loss: 0.0555 - categorical_accuracy: 0.9800\n",
            "Epoch 23/50\n",
            "1373/1373 [==============================] - 22s 16ms/step - loss: 0.0554 - categorical_accuracy: 0.9811\n",
            "Epoch 24/50\n",
            "1373/1373 [==============================] - 22s 16ms/step - loss: 0.0530 - categorical_accuracy: 0.9822\n",
            "Epoch 25/50\n",
            "1373/1373 [==============================] - 22s 16ms/step - loss: 0.0489 - categorical_accuracy: 0.9832\n",
            "Epoch 26/50\n",
            "1373/1373 [==============================] - 22s 16ms/step - loss: 0.0501 - categorical_accuracy: 0.9829\n",
            "Epoch 27/50\n",
            "1373/1373 [==============================] - 22s 16ms/step - loss: 0.0449 - categorical_accuracy: 0.9848\n",
            "Epoch 28/50\n",
            "1373/1373 [==============================] - 22s 16ms/step - loss: 0.0450 - categorical_accuracy: 0.9841\n",
            "Epoch 29/50\n",
            "1373/1373 [==============================] - 22s 16ms/step - loss: 0.0427 - categorical_accuracy: 0.9845\n",
            "Epoch 30/50\n",
            "1373/1373 [==============================] - 22s 16ms/step - loss: 0.0411 - categorical_accuracy: 0.9855\n",
            "Epoch 31/50\n",
            "1373/1373 [==============================] - 22s 16ms/step - loss: 0.0414 - categorical_accuracy: 0.9860\n",
            "Epoch 32/50\n",
            "1373/1373 [==============================] - 22s 16ms/step - loss: 0.0399 - categorical_accuracy: 0.9858\n",
            "Epoch 33/50\n",
            "1373/1373 [==============================] - 22s 16ms/step - loss: 0.0366 - categorical_accuracy: 0.9872\n",
            "Epoch 34/50\n",
            "1373/1373 [==============================] - 22s 16ms/step - loss: 0.0376 - categorical_accuracy: 0.9870\n",
            "Epoch 35/50\n",
            "1373/1373 [==============================] - 22s 16ms/step - loss: 0.0374 - categorical_accuracy: 0.9872\n",
            "Epoch 36/50\n",
            "1373/1373 [==============================] - 22s 16ms/step - loss: 0.0370 - categorical_accuracy: 0.9867\n",
            "Epoch 37/50\n",
            "1373/1373 [==============================] - 22s 16ms/step - loss: 0.0339 - categorical_accuracy: 0.9881\n",
            "Epoch 38/50\n",
            "1373/1373 [==============================] - 22s 16ms/step - loss: 0.0329 - categorical_accuracy: 0.9885\n",
            "Epoch 39/50\n",
            "1373/1373 [==============================] - 22s 16ms/step - loss: 0.0379 - categorical_accuracy: 0.9870\n",
            "Epoch 40/50\n",
            "1373/1373 [==============================] - 22s 16ms/step - loss: 0.0335 - categorical_accuracy: 0.9887\n",
            "Epoch 41/50\n",
            "1373/1373 [==============================] - 22s 16ms/step - loss: 0.0329 - categorical_accuracy: 0.9886\n",
            "Epoch 42/50\n",
            "1373/1373 [==============================] - 22s 16ms/step - loss: 0.0311 - categorical_accuracy: 0.9893\n",
            "Epoch 43/50\n",
            "1373/1373 [==============================] - 22s 16ms/step - loss: 0.0318 - categorical_accuracy: 0.9886\n",
            "Epoch 44/50\n",
            "1373/1373 [==============================] - 22s 16ms/step - loss: 0.0293 - categorical_accuracy: 0.9895\n",
            "Epoch 45/50\n",
            "1373/1373 [==============================] - 22s 16ms/step - loss: 0.0332 - categorical_accuracy: 0.9886\n",
            "Epoch 46/50\n",
            "1373/1373 [==============================] - 22s 16ms/step - loss: 0.0289 - categorical_accuracy: 0.9896\n",
            "Epoch 47/50\n",
            "1373/1373 [==============================] - 22s 16ms/step - loss: 0.0285 - categorical_accuracy: 0.9904\n",
            "Epoch 48/50\n",
            "1373/1373 [==============================] - 22s 16ms/step - loss: 0.0303 - categorical_accuracy: 0.9900\n",
            "Epoch 49/50\n",
            "1373/1373 [==============================] - 22s 16ms/step - loss: 0.0288 - categorical_accuracy: 0.9902\n",
            "Epoch 50/50\n",
            "1373/1373 [==============================] - 22s 16ms/step - loss: 0.0256 - categorical_accuracy: 0.9915\n"
          ],
          "name": "stdout"
        },
        {
          "output_type": "execute_result",
          "data": {
            "text/plain": [
              "<tensorflow.python.keras.callbacks.History at 0x7f828c6b3fd0>"
            ]
          },
          "metadata": {
            "tags": []
          },
          "execution_count": 39
        }
      ]
    },
    {
      "cell_type": "code",
      "metadata": {
        "id": "Sc1deaOodz55"
      },
      "source": [
        "model.save_weights(\"Medium_LSTM_09915.h5\")"
      ],
      "execution_count": 40,
      "outputs": []
    },
    {
      "cell_type": "code",
      "metadata": {
        "id": "L2Eae73JsuWY"
      },
      "source": [
        "model_hist = model.history.history"
      ],
      "execution_count": 41,
      "outputs": []
    },
    {
      "cell_type": "code",
      "metadata": {
        "id": "nhnuzSLis9Yy",
        "outputId": "b06731ec-8e0c-440c-fd51-d01ffc6d4ef6",
        "colab": {
          "base_uri": "https://localhost:8080/"
        }
      },
      "source": [
        "model_hist.keys()"
      ],
      "execution_count": 42,
      "outputs": [
        {
          "output_type": "execute_result",
          "data": {
            "text/plain": [
              "dict_keys(['loss', 'categorical_accuracy'])"
            ]
          },
          "metadata": {
            "tags": []
          },
          "execution_count": 42
        }
      ]
    },
    {
      "cell_type": "code",
      "metadata": {
        "id": "FloTJOmGtull",
        "outputId": "259eb63c-6923-46f1-d2e2-df03347c0a95",
        "colab": {
          "base_uri": "https://localhost:8080/",
          "height": 606
        }
      },
      "source": [
        "import matplotlib.pyplot as plt\n",
        "plt.figure(figsize=(15,10))\n",
        "plt.plot(model_hist['loss'], label=\"loss\")\n",
        "plt.plot(model_hist['categorical_accuracy'], label=\"categorical_accuracy\")\n",
        "plt.xlabel(\"Epoch\")\n",
        "plt.legend()\n",
        "plt.show()"
      ],
      "execution_count": 43,
      "outputs": [
        {
          "output_type": "display_data",
          "data": {
            "image/png": "[encoded data removed]",
            "text/plain": [
              "<Figure size 1080x720 with 1 Axes>"
            ]
          },
          "metadata": {
            "tags": [],
            "needs_background": "light"
          }
        }
      ]
    },
    {
      "cell_type": "markdown",
      "metadata": {
        "id": "8ELVgff20RTR"
      },
      "source": [
        "# Prediction"
      ]
    },
    {
      "cell_type": "code",
      "metadata": {
        "id": "O5g-tMzFxwmQ"
      },
      "source": [
        "x_test = X_test.astype(np.float32)"
      ],
      "execution_count": 44,
      "outputs": []
    },
    {
      "cell_type": "code",
      "metadata": {
        "id": "NGOx3aNJzWAD",
        "outputId": "a57e58e9-64a0-4653-e13e-43f2f4936675",
        "colab": {
          "base_uri": "https://localhost:8080/"
        }
      },
      "source": [
        "for i in range(50):\n",
        "  x_sample = x_test[i]\n",
        "  x_sample = x_sample.reshape(1, 200, 3)\n",
        "  print(\"Prediction:\",np.argmax(model.predict(x_sample)), \"\\tGround Truth:\",np.argmax(y_test[i]), \"\\tEqual:\",np.argmax(model.predict(x_sample)) == np.argmax(y_test[i]))"
      ],
      "execution_count": 45,
      "outputs": [
        {
          "output_type": "stream",
          "text": [
            "Prediction: 1 \tGround Truth: 1 \tEqual: True\n",
            "Prediction: 1 \tGround Truth: 1 \tEqual: True\n",
            "Prediction: 1 \tGround Truth: 1 \tEqual: True\n",
            "Prediction: 0 \tGround Truth: 0 \tEqual: True\n",
            "Prediction: 5 \tGround Truth: 5 \tEqual: True\n",
            "Prediction: 5 \tGround Truth: 5 \tEqual: True\n",
            "Prediction: 0 \tGround Truth: 0 \tEqual: True\n",
            "Prediction: 0 \tGround Truth: 0 \tEqual: True\n",
            "Prediction: 4 \tGround Truth: 4 \tEqual: True\n",
            "Prediction: 2 \tGround Truth: 2 \tEqual: True\n",
            "Prediction: 1 \tGround Truth: 1 \tEqual: True\n",
            "Prediction: 5 \tGround Truth: 5 \tEqual: True\n",
            "Prediction: 4 \tGround Truth: 4 \tEqual: True\n",
            "Prediction: 4 \tGround Truth: 4 \tEqual: True\n",
            "Prediction: 5 \tGround Truth: 5 \tEqual: True\n",
            "Prediction: 1 \tGround Truth: 1 \tEqual: True\n",
            "Prediction: 5 \tGround Truth: 5 \tEqual: True\n",
            "Prediction: 5 \tGround Truth: 5 \tEqual: True\n",
            "Prediction: 1 \tGround Truth: 1 \tEqual: True\n",
            "Prediction: 1 \tGround Truth: 1 \tEqual: True\n",
            "Prediction: 0 \tGround Truth: 0 \tEqual: True\n",
            "Prediction: 5 \tGround Truth: 5 \tEqual: True\n",
            "Prediction: 5 \tGround Truth: 5 \tEqual: True\n",
            "Prediction: 4 \tGround Truth: 4 \tEqual: True\n",
            "Prediction: 5 \tGround Truth: 5 \tEqual: True\n",
            "Prediction: 1 \tGround Truth: 1 \tEqual: True\n",
            "Prediction: 5 \tGround Truth: 5 \tEqual: True\n",
            "Prediction: 1 \tGround Truth: 1 \tEqual: True\n",
            "Prediction: 5 \tGround Truth: 5 \tEqual: True\n",
            "Prediction: 4 \tGround Truth: 4 \tEqual: True\n",
            "Prediction: 2 \tGround Truth: 2 \tEqual: True\n",
            "Prediction: 5 \tGround Truth: 5 \tEqual: True\n",
            "Prediction: 5 \tGround Truth: 5 \tEqual: True\n",
            "Prediction: 5 \tGround Truth: 5 \tEqual: True\n",
            "Prediction: 3 \tGround Truth: 3 \tEqual: True\n",
            "Prediction: 1 \tGround Truth: 1 \tEqual: True\n",
            "Prediction: 3 \tGround Truth: 3 \tEqual: True\n",
            "Prediction: 5 \tGround Truth: 5 \tEqual: True\n",
            "Prediction: 5 \tGround Truth: 5 \tEqual: True\n",
            "Prediction: 1 \tGround Truth: 1 \tEqual: True\n",
            "Prediction: 5 \tGround Truth: 5 \tEqual: True\n",
            "Prediction: 1 \tGround Truth: 1 \tEqual: True\n",
            "Prediction: 0 \tGround Truth: 0 \tEqual: True\n",
            "Prediction: 4 \tGround Truth: 4 \tEqual: True\n",
            "Prediction: 1 \tGround Truth: 1 \tEqual: True\n",
            "Prediction: 1 \tGround Truth: 1 \tEqual: True\n",
            "Prediction: 1 \tGround Truth: 1 \tEqual: True\n",
            "Prediction: 5 \tGround Truth: 5 \tEqual: True\n",
            "Prediction: 1 \tGround Truth: 1 \tEqual: True\n",
            "Prediction: 5 \tGround Truth: 5 \tEqual: True\n"
          ],
          "name": "stdout"
        }
      ]
    },
    {
      "cell_type": "markdown",
      "metadata": {
        "id": "N9QmThrr1bC7"
      },
      "source": [
        "# Confusion Matrix"
      ]
    },
    {
      "cell_type": "code",
      "metadata": {
        "id": "-FfPsfbo1dAZ",
        "outputId": "e58c2240-28dd-4a92-9d8d-65c50a670f2d",
        "colab": {
          "base_uri": "https://localhost:8080/"
        }
      },
      "source": [
        "y_pred = model.predict(x_test)\n",
        "y_pred"
      ],
      "execution_count": 46,
      "outputs": [
        {
          "output_type": "execute_result",
          "data": {
            "text/plain": [
              "array([[7.8583773e-16, 1.0000000e+00, 4.2419693e-20, 6.0848739e-21,\n",
              "        2.0961632e-11, 8.4533471e-13],\n",
              "       [2.4479394e-10, 9.9999571e-01, 3.4496546e-13, 3.4638152e-14,\n",
              "        5.6349019e-09, 4.2411280e-06],\n",
              "       [1.5703379e-10, 1.0000000e+00, 1.9124304e-18, 9.4700126e-16,\n",
              "        3.5439869e-09, 4.5563184e-09],\n",
              "       ...,\n",
              "       [3.8224843e-07, 6.4567045e-09, 2.5895614e-11, 1.5549893e-12,\n",
              "        2.4601140e-05, 9.9997509e-01],\n",
              "       [3.5486183e-10, 1.1162060e-12, 3.3890607e-18, 3.1138501e-16,\n",
              "        9.2748020e-10, 1.0000000e+00],\n",
              "       [3.9399950e-07, 1.4855890e-10, 3.1887987e-16, 2.2953164e-16,\n",
              "        9.1831280e-09, 9.9999964e-01]], dtype=float32)"
            ]
          },
          "metadata": {
            "tags": []
          },
          "execution_count": 46
        }
      ]
    },
    {
      "cell_type": "code",
      "metadata": {
        "id": "fZT1yjAEUkBJ",
        "outputId": "e7a7b059-fca1-407b-b57d-75ca06ea4a79",
        "colab": {
          "base_uri": "https://localhost:8080/"
        }
      },
      "source": [
        "from sklearn.metrics import confusion_matrix\n",
        "y_true=np.argmax(y_test, axis=1)\n",
        "confusion = confusion_matrix(y_true, np.argmax(y_pred, axis=1))\n",
        "confusion"
      ],
      "execution_count": 47,
      "outputs": [
        {
          "output_type": "execute_result",
          "data": {
            "text/plain": [
              "array([[ 993,    1,    9,    9,   43,    4],\n",
              "       [  24, 3397,    2,    1,    8,   15],\n",
              "       [   0,    0,  574,    2,    0,    0],\n",
              "       [   0,    0,    6,  430,    0,    0],\n",
              "       [  26,    0,   14,   16, 1144,    8],\n",
              "       [   5,    3,    1,    1,    5, 4240]])"
            ]
          },
          "metadata": {
            "tags": []
          },
          "execution_count": 47
        }
      ]
    },
    {
      "cell_type": "code",
      "metadata": {
        "id": "X6WGsCSvfiT_",
        "outputId": "4b42ddce-7b86-42e9-9606-43a1c2c1f2bb",
        "colab": {
          "base_uri": "https://localhost:8080/",
          "height": 451
        }
      },
      "source": [
        "df_cm = pd.DataFrame(confusion, index = ['Downstairs', 'Jogging', 'Sitting', 'Standing', 'Upstairs', 'Walking'],\n",
        "                  columns = ['Downstairs', 'Jogging', 'Sitting', 'Standing', 'Upstairs', 'Walking'])\n",
        "plt.figure(figsize = (10,7))\n",
        "\n",
        "import seaborn as sn\n",
        "sn.heatmap(df_cm, annot=True, fmt=\".1f\")\n",
        "plt.xlabel(\"Real Values\", fontsize=20)\n",
        "plt.ylabel(\"Predicted Values\", fontsize=20)\n",
        "plt.show()"
      ],
      "execution_count": 48,
      "outputs": [
        {
          "output_type": "display_data",
          "data": {
            "image/png": "[encoded data removed]",
            "text/plain": [
              "<Figure size 720x504 with 2 Axes>"
            ]
          },
          "metadata": {
            "tags": [],
            "needs_background": "light"
          }
        }
      ]
    }
  ]
}